{
  "nbformat": 4,
  "nbformat_minor": 0,
  "metadata": {
    "colab": {
      "provenance": []
    },
    "kernelspec": {
      "name": "python3",
      "display_name": "Python 3"
    },
    "language_info": {
      "name": "python"
    }
  },
  "cells": [
    {
      "cell_type": "code",
      "source": [
        "!pip install pyspark"
      ],
      "metadata": {
        "id": "BZAw3rSxSMnZ",
        "colab": {
          "base_uri": "https://localhost:8080/"
        },
        "outputId": "a4140f3f-b45b-48d9-d48a-7801c36e210f"
      },
      "execution_count": null,
      "outputs": [
        {
          "output_type": "stream",
          "name": "stdout",
          "text": [
            "Looking in indexes: https://pypi.org/simple, https://us-python.pkg.dev/colab-wheels/public/simple/\n",
            "Collecting pyspark\n",
            "  Downloading pyspark-3.3.1.tar.gz (281.4 MB)\n",
            "\u001b[K     |████████████████████████████████| 281.4 MB 37 kB/s \n",
            "\u001b[?25hCollecting py4j==0.10.9.5\n",
            "  Downloading py4j-0.10.9.5-py2.py3-none-any.whl (199 kB)\n",
            "\u001b[K     |████████████████████████████████| 199 kB 56.0 MB/s \n",
            "\u001b[?25hBuilding wheels for collected packages: pyspark\n",
            "  Building wheel for pyspark (setup.py) ... \u001b[?25l\u001b[?25hdone\n",
            "  Created wheel for pyspark: filename=pyspark-3.3.1-py2.py3-none-any.whl size=281845512 sha256=00502441cfd6990bf52915a697a20207c79b762c7a0de7d76af72cd18b565389\n",
            "  Stored in directory: /root/.cache/pip/wheels/43/dc/11/ec201cd671da62fa9c5cc77078235e40722170ceba231d7598\n",
            "Successfully built pyspark\n",
            "Installing collected packages: py4j, pyspark\n",
            "Successfully installed py4j-0.10.9.5 pyspark-3.3.1\n"
          ]
        }
      ]
    },
    {
      "cell_type": "code",
      "execution_count": null,
      "metadata": {
        "id": "WLs8tBHgMo2t"
      },
      "outputs": [],
      "source": [
        "import pyspark"
      ]
    },
    {
      "cell_type": "code",
      "source": [
        "from pyspark.sql import SparkSession"
      ],
      "metadata": {
        "id": "q48iXjmKM3pd"
      },
      "execution_count": null,
      "outputs": []
    },
    {
      "cell_type": "code",
      "source": [
        "spark=SparkSession.builder.appName(\"test\").getOrCreate()"
      ],
      "metadata": {
        "id": "f4npINiSNCgv"
      },
      "execution_count": null,
      "outputs": []
    },
    {
      "cell_type": "code",
      "source": [
        "spark"
      ],
      "metadata": {
        "colab": {
          "base_uri": "https://localhost:8080/",
          "height": 219
        },
        "id": "Jl3yL11lNFPi",
        "outputId": "1ed0069b-7146-4858-d48c-dc6763bcf0df"
      },
      "execution_count": null,
      "outputs": [
        {
          "output_type": "execute_result",
          "data": {
            "text/plain": [
              "<pyspark.sql.session.SparkSession at 0x7f557c4b2460>"
            ],
            "text/html": [
              "\n",
              "            <div>\n",
              "                <p><b>SparkSession - in-memory</b></p>\n",
              "                \n",
              "        <div>\n",
              "            <p><b>SparkContext</b></p>\n",
              "\n",
              "            <p><a href=\"http://497ec2016440:4040\">Spark UI</a></p>\n",
              "\n",
              "            <dl>\n",
              "              <dt>Version</dt>\n",
              "                <dd><code>v3.3.1</code></dd>\n",
              "              <dt>Master</dt>\n",
              "                <dd><code>local[*]</code></dd>\n",
              "              <dt>AppName</dt>\n",
              "                <dd><code>test</code></dd>\n",
              "            </dl>\n",
              "        </div>\n",
              "        \n",
              "            </div>\n",
              "        "
            ]
          },
          "metadata": {},
          "execution_count": 5
        }
      ]
    },
    {
      "cell_type": "code",
      "source": [
        "df=spark.read.csv(\"/content/drive/MyDrive/data/house price pyspark/train.csv\",header=True,inferSchema=True)"
      ],
      "metadata": {
        "id": "4eBCzNpjNKvj"
      },
      "execution_count": null,
      "outputs": []
    },
    {
      "cell_type": "code",
      "source": [
        "df=df.drop(\"ADDRESS\")"
      ],
      "metadata": {
        "id": "A5xNrSTQNKtp"
      },
      "execution_count": null,
      "outputs": []
    },
    {
      "cell_type": "code",
      "source": [
        "df.show()"
      ],
      "metadata": {
        "colab": {
          "base_uri": "https://localhost:8080/"
        },
        "id": "6OeCMgvtNKqm",
        "outputId": "a58dfcb3-25c6-4586-d1dc-fcfcdd104b3a"
      },
      "execution_count": null,
      "outputs": [
        {
          "output_type": "stream",
          "name": "stdout",
          "text": [
            "+---------+------------------+----+-------+---------+------------------+-------------+------+------------------+-----------------+---------------------+\n",
            "|POSTED_BY|UNDER_CONSTRUCTION|RERA|BHK_NO.|BHK_OR_RK|         SQUARE_FT|READY_TO_MOVE|RESALE|         LONGITUDE|         LATITUDE|TARGET(PRICE_IN_LACS)|\n",
            "+---------+------------------+----+-------+---------+------------------+-------------+------+------------------+-----------------+---------------------+\n",
            "|    Owner|                 0|   0|      2|      BHK|       1300.236407|            1|     1|          12.96991|         77.59796|                 55.0|\n",
            "|   Dealer|                 0|   0|      2|      BHK|            1275.0|            1|     1|         12.274538|        76.644605|                 51.0|\n",
            "|    Owner|                 0|   0|      2|      BHK| 933.1597222000001|            1|     1|         12.778033|        77.632191|                 43.0|\n",
            "|    Owner|                 0|   1|      2|      BHK| 929.9211427000001|            1|     1|           28.6423|          77.3445|                 62.5|\n",
            "|   Dealer|                 1|   0|      2|      BHK| 999.0092470000001|            0|     1|           22.5922|        88.484911|                 60.5|\n",
            "|    Owner|                 0|   0|      3|      BHK|            1250.0|            1|     1|          10.03328|76.28257099999999|                 42.0|\n",
            "|   Dealer|                 0|   0|      3|      BHK|       1495.053957|            1|     1|         26.916347|          75.7956|                 66.5|\n",
            "|    Owner|                 0|   1|      3|      BHK|       1181.012946|            1|     1|             30.74|            76.65|                 52.0|\n",
            "|   Dealer|                 0|   1|      2|      BHK|            1040.0|            1|     1|         13.054202|        77.674002|                 41.6|\n",
            "|    Owner|                 0|   1|      2|      BHK| 879.1208791000001|            1|     1|          12.95161|         80.14097|                 36.0|\n",
            "|    Owner|                 0|   0|      3|      BHK|       1350.308642|            1|     1|         26.724219|        88.326357|                 35.0|\n",
            "|   Dealer|                 0|   0|      2|      BHK|1333.0101789999999|            1|     1|13.040339999999999|        77.591347|                110.0|\n",
            "|    Owner|                 0|   0|      2|      BHK|       927.1779023|            1|     1|          12.96991|         77.59796|                 48.0|\n",
            "|    Owner|                 0|   1|      2|      BHK|1122.1719460000002|            1|     1|         28.587711|        77.403123|                 62.0|\n",
            "|    Owner|                 0|   0|      1|      BHK|       649.9837504|            1|     1|           13.0352|          77.5772|                 20.0|\n",
            "|   Dealer|                 1|   1|      3|      BHK|       1394.117647|            0|     1|         28.429614|        77.481711|                 71.1|\n",
            "|    Owner|                 0|   0|      3|      BHK|        1800.08471|            1|     1|20.275267000000003|85.86240699999999|                 85.0|\n",
            "|   Dealer|                 1|   1|      3|      BHK|       2124.896706|            0|     1|           12.8855|          77.5638|                180.0|\n",
            "|    Owner|                 0|   0|      2|      BHK|            1100.0|            1|     1|          21.15389|         79.08306|                 22.0|\n",
            "|   Dealer|                 0|   1|      3|      BHK|       2178.649237|            1|     1|         13.092356|77.61346800000001|                120.0|\n",
            "+---------+------------------+----+-------+---------+------------------+-------------+------+------------------+-----------------+---------------------+\n",
            "only showing top 20 rows\n",
            "\n"
          ]
        }
      ]
    },
    {
      "cell_type": "code",
      "source": [
        "type(df)"
      ],
      "metadata": {
        "colab": {
          "base_uri": "https://localhost:8080/"
        },
        "id": "StH1LMPhNKmX",
        "outputId": "275e01e5-0459-4ecb-f300-acefa361cd65"
      },
      "execution_count": null,
      "outputs": [
        {
          "output_type": "execute_result",
          "data": {
            "text/plain": [
              "pyspark.sql.dataframe.DataFrame"
            ]
          },
          "metadata": {},
          "execution_count": 9
        }
      ]
    },
    {
      "cell_type": "code",
      "source": [
        "df.printSchema()"
      ],
      "metadata": {
        "colab": {
          "base_uri": "https://localhost:8080/"
        },
        "id": "-iNX1zLlNKjy",
        "outputId": "3d4821b6-6f37-4c24-f6b9-afdd5d447a55"
      },
      "execution_count": null,
      "outputs": [
        {
          "output_type": "stream",
          "name": "stdout",
          "text": [
            "root\n",
            " |-- POSTED_BY: string (nullable = true)\n",
            " |-- UNDER_CONSTRUCTION: integer (nullable = true)\n",
            " |-- RERA: integer (nullable = true)\n",
            " |-- BHK_NO.: integer (nullable = true)\n",
            " |-- BHK_OR_RK: string (nullable = true)\n",
            " |-- SQUARE_FT: double (nullable = true)\n",
            " |-- READY_TO_MOVE: integer (nullable = true)\n",
            " |-- RESALE: integer (nullable = true)\n",
            " |-- LONGITUDE: double (nullable = true)\n",
            " |-- LATITUDE: double (nullable = true)\n",
            " |-- TARGET(PRICE_IN_LACS): double (nullable = true)\n",
            "\n"
          ]
        }
      ]
    },
    {
      "cell_type": "code",
      "source": [
        "df.groupBy(\"POSTED_BY\").count().show()"
      ],
      "metadata": {
        "colab": {
          "base_uri": "https://localhost:8080/"
        },
        "id": "iYonJQVxNKhC",
        "outputId": "06288326-8a84-4306-a304-6ebcb669fed3"
      },
      "execution_count": null,
      "outputs": [
        {
          "output_type": "stream",
          "name": "stdout",
          "text": [
            "+---------+-----+\n",
            "|POSTED_BY|count|\n",
            "+---------+-----+\n",
            "|  Builder|  622|\n",
            "|   Dealer|18291|\n",
            "|    Owner|10538|\n",
            "+---------+-----+\n",
            "\n"
          ]
        }
      ]
    },
    {
      "cell_type": "code",
      "source": [
        "df.groupBy(\"BHK_OR_RK\").count().show()"
      ],
      "metadata": {
        "colab": {
          "base_uri": "https://localhost:8080/"
        },
        "id": "wIOK-dpYNKeX",
        "outputId": "69a8a08e-150a-4578-9493-e6ffd62fd6d4"
      },
      "execution_count": null,
      "outputs": [
        {
          "output_type": "stream",
          "name": "stdout",
          "text": [
            "+---------+-----+\n",
            "|BHK_OR_RK|count|\n",
            "+---------+-----+\n",
            "|      BHK|29427|\n",
            "|       RK|   24|\n",
            "+---------+-----+\n",
            "\n"
          ]
        }
      ]
    },
    {
      "cell_type": "code",
      "source": [
        "df=df.drop(\"BHK_OR_RK\")\n",
        "df=df.drop(\"READY_TO_MOVE\")"
      ],
      "metadata": {
        "id": "ziyK7UzkNKbn"
      },
      "execution_count": null,
      "outputs": []
    },
    {
      "cell_type": "code",
      "source": [
        "df.groupBy(\"UNDER_CONSTRUCTION\").count().show()"
      ],
      "metadata": {
        "colab": {
          "base_uri": "https://localhost:8080/"
        },
        "id": "AlYbek7JNrki",
        "outputId": "27eeda47-0375-414c-e966-4a8046cee67e"
      },
      "execution_count": null,
      "outputs": [
        {
          "output_type": "stream",
          "name": "stdout",
          "text": [
            "+------------------+-----+\n",
            "|UNDER_CONSTRUCTION|count|\n",
            "+------------------+-----+\n",
            "|                 1| 5294|\n",
            "|                 0|24157|\n",
            "+------------------+-----+\n",
            "\n"
          ]
        }
      ]
    },
    {
      "cell_type": "code",
      "source": [
        "#RERA, the full form of which is Real Estate Regulatory Authority, stands for transparency in the real estate industry.\n",
        "df.groupBy(\"RERA\").count().show()"
      ],
      "metadata": {
        "colab": {
          "base_uri": "https://localhost:8080/"
        },
        "id": "RUlAccoTNtXx",
        "outputId": "29ffb568-dcf8-49e9-95de-a2a8942d49cf"
      },
      "execution_count": null,
      "outputs": [
        {
          "output_type": "stream",
          "name": "stdout",
          "text": [
            "+----+-----+\n",
            "|RERA|count|\n",
            "+----+-----+\n",
            "|   1| 9363|\n",
            "|   0|20088|\n",
            "+----+-----+\n",
            "\n"
          ]
        }
      ]
    },
    {
      "cell_type": "code",
      "source": [
        "df.groupBy(\"RESALE\").count().show()"
      ],
      "metadata": {
        "colab": {
          "base_uri": "https://localhost:8080/"
        },
        "id": "Dd8iU3C8NvKl",
        "outputId": "94b387e5-b2ec-4cf8-8831-c65fddc1bd13"
      },
      "execution_count": null,
      "outputs": [
        {
          "output_type": "stream",
          "name": "stdout",
          "text": [
            "+------+-----+\n",
            "|RESALE|count|\n",
            "+------+-----+\n",
            "|     1|27377|\n",
            "|     0| 2074|\n",
            "+------+-----+\n",
            "\n"
          ]
        }
      ]
    },
    {
      "cell_type": "code",
      "source": [
        "df.groupBy(\"`BHK_NO.`\").count().show()"
      ],
      "metadata": {
        "colab": {
          "base_uri": "https://localhost:8080/"
        },
        "id": "_-dOcqMINxKI",
        "outputId": "018c99b0-bc50-4321-e6ae-0cc9ecf34222"
      },
      "execution_count": null,
      "outputs": [
        {
          "output_type": "stream",
          "name": "stdout",
          "text": [
            "+-------+-----+\n",
            "|BHK_NO.|count|\n",
            "+-------+-----+\n",
            "|     12|    3|\n",
            "|      1| 3574|\n",
            "|     13|    1|\n",
            "|      6|   52|\n",
            "|      3|10546|\n",
            "|     20|    4|\n",
            "|      5|  190|\n",
            "|     15|    4|\n",
            "|      9|    3|\n",
            "|     17|    1|\n",
            "|      4| 1723|\n",
            "|      8|   10|\n",
            "|      7|   11|\n",
            "|     10|    4|\n",
            "|     11|    1|\n",
            "|      2|13324|\n",
            "+-------+-----+\n",
            "\n"
          ]
        }
      ]
    },
    {
      "cell_type": "code",
      "source": [
        "df=df.withColumnRenamed('BHK_NO.', \"BHK\")"
      ],
      "metadata": {
        "id": "Xh84GoabNy49"
      },
      "execution_count": null,
      "outputs": []
    },
    {
      "cell_type": "code",
      "source": [
        "df.groupBy(\"BHK\").count().show()"
      ],
      "metadata": {
        "colab": {
          "base_uri": "https://localhost:8080/"
        },
        "id": "ew8D2K5YN1Fr",
        "outputId": "52e8aed6-a25c-45a4-b672-3e9cd0cb101c"
      },
      "execution_count": null,
      "outputs": [
        {
          "output_type": "stream",
          "name": "stdout",
          "text": [
            "+---+-----+\n",
            "|BHK|count|\n",
            "+---+-----+\n",
            "| 12|    3|\n",
            "|  1| 3574|\n",
            "| 13|    1|\n",
            "|  6|   52|\n",
            "|  3|10546|\n",
            "| 20|    4|\n",
            "|  5|  190|\n",
            "| 15|    4|\n",
            "|  9|    3|\n",
            "| 17|    1|\n",
            "|  4| 1723|\n",
            "|  8|   10|\n",
            "|  7|   11|\n",
            "| 10|    4|\n",
            "| 11|    1|\n",
            "|  2|13324|\n",
            "+---+-----+\n",
            "\n"
          ]
        }
      ]
    },
    {
      "cell_type": "code",
      "source": [
        "df.show()"
      ],
      "metadata": {
        "colab": {
          "base_uri": "https://localhost:8080/"
        },
        "id": "Zln2bw91N3Ii",
        "outputId": "09fc7725-f974-4833-8719-7aba85565be4"
      },
      "execution_count": null,
      "outputs": [
        {
          "output_type": "stream",
          "name": "stdout",
          "text": [
            "+---------+------------------+----+---+------------------+------+------------------+-----------------+---------------------+\n",
            "|POSTED_BY|UNDER_CONSTRUCTION|RERA|BHK|         SQUARE_FT|RESALE|         LONGITUDE|         LATITUDE|TARGET(PRICE_IN_LACS)|\n",
            "+---------+------------------+----+---+------------------+------+------------------+-----------------+---------------------+\n",
            "|    Owner|                 0|   0|  2|       1300.236407|     1|          12.96991|         77.59796|                 55.0|\n",
            "|   Dealer|                 0|   0|  2|            1275.0|     1|         12.274538|        76.644605|                 51.0|\n",
            "|    Owner|                 0|   0|  2| 933.1597222000001|     1|         12.778033|        77.632191|                 43.0|\n",
            "|    Owner|                 0|   1|  2| 929.9211427000001|     1|           28.6423|          77.3445|                 62.5|\n",
            "|   Dealer|                 1|   0|  2| 999.0092470000001|     1|           22.5922|        88.484911|                 60.5|\n",
            "|    Owner|                 0|   0|  3|            1250.0|     1|          10.03328|76.28257099999999|                 42.0|\n",
            "|   Dealer|                 0|   0|  3|       1495.053957|     1|         26.916347|          75.7956|                 66.5|\n",
            "|    Owner|                 0|   1|  3|       1181.012946|     1|             30.74|            76.65|                 52.0|\n",
            "|   Dealer|                 0|   1|  2|            1040.0|     1|         13.054202|        77.674002|                 41.6|\n",
            "|    Owner|                 0|   1|  2| 879.1208791000001|     1|          12.95161|         80.14097|                 36.0|\n",
            "|    Owner|                 0|   0|  3|       1350.308642|     1|         26.724219|        88.326357|                 35.0|\n",
            "|   Dealer|                 0|   0|  2|1333.0101789999999|     1|13.040339999999999|        77.591347|                110.0|\n",
            "|    Owner|                 0|   0|  2|       927.1779023|     1|          12.96991|         77.59796|                 48.0|\n",
            "|    Owner|                 0|   1|  2|1122.1719460000002|     1|         28.587711|        77.403123|                 62.0|\n",
            "|    Owner|                 0|   0|  1|       649.9837504|     1|           13.0352|          77.5772|                 20.0|\n",
            "|   Dealer|                 1|   1|  3|       1394.117647|     1|         28.429614|        77.481711|                 71.1|\n",
            "|    Owner|                 0|   0|  3|        1800.08471|     1|20.275267000000003|85.86240699999999|                 85.0|\n",
            "|   Dealer|                 1|   1|  3|       2124.896706|     1|           12.8855|          77.5638|                180.0|\n",
            "|    Owner|                 0|   0|  2|            1100.0|     1|          21.15389|         79.08306|                 22.0|\n",
            "|   Dealer|                 0|   1|  3|       2178.649237|     1|         13.092356|77.61346800000001|                120.0|\n",
            "+---------+------------------+----+---+------------------+------+------------------+-----------------+---------------------+\n",
            "only showing top 20 rows\n",
            "\n"
          ]
        }
      ]
    },
    {
      "cell_type": "code",
      "source": [
        "from pyspark.ml.feature import StringIndexer"
      ],
      "metadata": {
        "id": "B-x-1ERRN4-7"
      },
      "execution_count": null,
      "outputs": []
    },
    {
      "cell_type": "code",
      "source": [
        "indexer=StringIndexer(inputCol=\"POSTED_BY\",outputCol=\"POSTED_BY_encoded\")\n",
        "df=indexer.fit(df).transform(df)"
      ],
      "metadata": {
        "id": "dmWtCwwoN73f"
      },
      "execution_count": null,
      "outputs": []
    },
    {
      "cell_type": "code",
      "source": [
        "df=df.drop(\"POSTED_BY\")"
      ],
      "metadata": {
        "id": "uoB7fLCoN9fn"
      },
      "execution_count": null,
      "outputs": []
    },
    {
      "cell_type": "code",
      "source": [
        "from pyspark.ml.feature import VectorAssembler"
      ],
      "metadata": {
        "id": "YryOqdQhN_Mw"
      },
      "execution_count": null,
      "outputs": []
    },
    {
      "cell_type": "code",
      "source": [
        "featureassembler=VectorAssembler(inputCols=[\"UNDER_CONSTRUCTION\",\"BHK\",\"POSTED_BY_encoded\",\"RERA\",\"SQUARE_FT\",\"RESALE\",\"LONGITUDE\",\"LATITUDE\"],outputCol=\"Indepedent Features\")\n",
        "result=featureassembler.transform(df)"
      ],
      "metadata": {
        "id": "O6XxrVQhOB0h"
      },
      "execution_count": null,
      "outputs": []
    },
    {
      "cell_type": "code",
      "source": [
        "result.show()"
      ],
      "metadata": {
        "colab": {
          "base_uri": "https://localhost:8080/"
        },
        "id": "ANTWyaM6ODrJ",
        "outputId": "b0fe0d8a-07d4-41e4-f0ec-1c5205eec035"
      },
      "execution_count": null,
      "outputs": [
        {
          "output_type": "stream",
          "name": "stdout",
          "text": [
            "+------------------+----+---+------------------+------+------------------+-----------------+---------------------+-----------------+--------------------+\n",
            "|UNDER_CONSTRUCTION|RERA|BHK|         SQUARE_FT|RESALE|         LONGITUDE|         LATITUDE|TARGET(PRICE_IN_LACS)|POSTED_BY_encoded| Indepedent Features|\n",
            "+------------------+----+---+------------------+------+------------------+-----------------+---------------------+-----------------+--------------------+\n",
            "|                 0|   0|  2|       1300.236407|     1|          12.96991|         77.59796|                 55.0|              1.0|[0.0,2.0,1.0,0.0,...|\n",
            "|                 0|   0|  2|            1275.0|     1|         12.274538|        76.644605|                 51.0|              0.0|[0.0,2.0,0.0,0.0,...|\n",
            "|                 0|   0|  2| 933.1597222000001|     1|         12.778033|        77.632191|                 43.0|              1.0|[0.0,2.0,1.0,0.0,...|\n",
            "|                 0|   1|  2| 929.9211427000001|     1|           28.6423|          77.3445|                 62.5|              1.0|[0.0,2.0,1.0,1.0,...|\n",
            "|                 1|   0|  2| 999.0092470000001|     1|           22.5922|        88.484911|                 60.5|              0.0|[1.0,2.0,0.0,0.0,...|\n",
            "|                 0|   0|  3|            1250.0|     1|          10.03328|76.28257099999999|                 42.0|              1.0|[0.0,3.0,1.0,0.0,...|\n",
            "|                 0|   0|  3|       1495.053957|     1|         26.916347|          75.7956|                 66.5|              0.0|[0.0,3.0,0.0,0.0,...|\n",
            "|                 0|   1|  3|       1181.012946|     1|             30.74|            76.65|                 52.0|              1.0|[0.0,3.0,1.0,1.0,...|\n",
            "|                 0|   1|  2|            1040.0|     1|         13.054202|        77.674002|                 41.6|              0.0|[0.0,2.0,0.0,1.0,...|\n",
            "|                 0|   1|  2| 879.1208791000001|     1|          12.95161|         80.14097|                 36.0|              1.0|[0.0,2.0,1.0,1.0,...|\n",
            "|                 0|   0|  3|       1350.308642|     1|         26.724219|        88.326357|                 35.0|              1.0|[0.0,3.0,1.0,0.0,...|\n",
            "|                 0|   0|  2|1333.0101789999999|     1|13.040339999999999|        77.591347|                110.0|              0.0|[0.0,2.0,0.0,0.0,...|\n",
            "|                 0|   0|  2|       927.1779023|     1|          12.96991|         77.59796|                 48.0|              1.0|[0.0,2.0,1.0,0.0,...|\n",
            "|                 0|   1|  2|1122.1719460000002|     1|         28.587711|        77.403123|                 62.0|              1.0|[0.0,2.0,1.0,1.0,...|\n",
            "|                 0|   0|  1|       649.9837504|     1|           13.0352|          77.5772|                 20.0|              1.0|[0.0,1.0,1.0,0.0,...|\n",
            "|                 1|   1|  3|       1394.117647|     1|         28.429614|        77.481711|                 71.1|              0.0|[1.0,3.0,0.0,1.0,...|\n",
            "|                 0|   0|  3|        1800.08471|     1|20.275267000000003|85.86240699999999|                 85.0|              1.0|[0.0,3.0,1.0,0.0,...|\n",
            "|                 1|   1|  3|       2124.896706|     1|           12.8855|          77.5638|                180.0|              0.0|[1.0,3.0,0.0,1.0,...|\n",
            "|                 0|   0|  2|            1100.0|     1|          21.15389|         79.08306|                 22.0|              1.0|[0.0,2.0,1.0,0.0,...|\n",
            "|                 0|   1|  3|       2178.649237|     1|         13.092356|77.61346800000001|                120.0|              0.0|[0.0,3.0,0.0,1.0,...|\n",
            "+------------------+----+---+------------------+------+------------------+-----------------+---------------------+-----------------+--------------------+\n",
            "only showing top 20 rows\n",
            "\n"
          ]
        }
      ]
    },
    {
      "cell_type": "code",
      "source": [
        "result=result.select(\"Indepedent Features\",\"TARGET(PRICE_IN_LACS)\")"
      ],
      "metadata": {
        "id": "ExNaFd5uOFq3"
      },
      "execution_count": null,
      "outputs": []
    },
    {
      "cell_type": "code",
      "source": [
        "result.show(truncate=0)"
      ],
      "metadata": {
        "colab": {
          "base_uri": "https://localhost:8080/"
        },
        "id": "hPwDI7XIOMm8",
        "outputId": "c48b0b82-9108-42e0-c88a-033b8c82778d"
      },
      "execution_count": null,
      "outputs": [
        {
          "output_type": "stream",
          "name": "stdout",
          "text": [
            "+---------------------------------------------------------------------+---------------------+\n",
            "|Indepedent Features                                                  |TARGET(PRICE_IN_LACS)|\n",
            "+---------------------------------------------------------------------+---------------------+\n",
            "|[0.0,2.0,1.0,0.0,1300.236407,1.0,12.96991,77.59796]                  |55.0                 |\n",
            "|[0.0,2.0,0.0,0.0,1275.0,1.0,12.274538,76.644605]                     |51.0                 |\n",
            "|[0.0,2.0,1.0,0.0,933.1597222000001,1.0,12.778033,77.632191]          |43.0                 |\n",
            "|[0.0,2.0,1.0,1.0,929.9211427000001,1.0,28.6423,77.3445]              |62.5                 |\n",
            "|[1.0,2.0,0.0,0.0,999.0092470000001,1.0,22.5922,88.484911]            |60.5                 |\n",
            "|[0.0,3.0,1.0,0.0,1250.0,1.0,10.03328,76.28257099999999]              |42.0                 |\n",
            "|[0.0,3.0,0.0,0.0,1495.053957,1.0,26.916347,75.7956]                  |66.5                 |\n",
            "|[0.0,3.0,1.0,1.0,1181.012946,1.0,30.74,76.65]                        |52.0                 |\n",
            "|[0.0,2.0,0.0,1.0,1040.0,1.0,13.054202,77.674002]                     |41.6                 |\n",
            "|[0.0,2.0,1.0,1.0,879.1208791000001,1.0,12.95161,80.14097]            |36.0                 |\n",
            "|[0.0,3.0,1.0,0.0,1350.308642,1.0,26.724219,88.326357]                |35.0                 |\n",
            "|[0.0,2.0,0.0,0.0,1333.0101789999999,1.0,13.040339999999999,77.591347]|110.0                |\n",
            "|[0.0,2.0,1.0,0.0,927.1779023,1.0,12.96991,77.59796]                  |48.0                 |\n",
            "|[0.0,2.0,1.0,1.0,1122.1719460000002,1.0,28.587711,77.403123]         |62.0                 |\n",
            "|[0.0,1.0,1.0,0.0,649.9837504,1.0,13.0352,77.5772]                    |20.0                 |\n",
            "|[1.0,3.0,0.0,1.0,1394.117647,1.0,28.429614,77.481711]                |71.1                 |\n",
            "|[0.0,3.0,1.0,0.0,1800.08471,1.0,20.275267000000003,85.86240699999999]|85.0                 |\n",
            "|[1.0,3.0,0.0,1.0,2124.896706,1.0,12.8855,77.5638]                    |180.0                |\n",
            "|[0.0,2.0,1.0,0.0,1100.0,1.0,21.15389,79.08306]                       |22.0                 |\n",
            "|[0.0,3.0,0.0,1.0,2178.649237,1.0,13.092356,77.61346800000001]        |120.0                |\n",
            "+---------------------------------------------------------------------+---------------------+\n",
            "only showing top 20 rows\n",
            "\n"
          ]
        }
      ]
    },
    {
      "cell_type": "code",
      "source": [
        "from pyspark.ml.regression import LinearRegression"
      ],
      "metadata": {
        "id": "s_bZcN9zOPGE"
      },
      "execution_count": null,
      "outputs": []
    },
    {
      "cell_type": "code",
      "source": [
        "train_data,test_data=result.randomSplit([0.75,0.25])"
      ],
      "metadata": {
        "id": "kgO3EOtHOUAl"
      },
      "execution_count": null,
      "outputs": []
    },
    {
      "cell_type": "code",
      "source": [
        "model=LinearRegression(featuresCol=\"Indepedent Features\",labelCol=\"TARGET(PRICE_IN_LACS)\")"
      ],
      "metadata": {
        "id": "qugYDWEdOVzy"
      },
      "execution_count": null,
      "outputs": []
    },
    {
      "cell_type": "code",
      "source": [
        "model=model.fit(train_data)"
      ],
      "metadata": {
        "id": "bhdrWPKlOXlz"
      },
      "execution_count": null,
      "outputs": []
    },
    {
      "cell_type": "code",
      "source": [
        "model.coefficients"
      ],
      "metadata": {
        "colab": {
          "base_uri": "https://localhost:8080/"
        },
        "id": "BZz0rLVOOZKt",
        "outputId": "7ccbf423-2ad6-401c-adf6-06cf6333ed01"
      },
      "execution_count": null,
      "outputs": [
        {
          "output_type": "execute_result",
          "data": {
            "text/plain": [
              "DenseVector([-40.6361, 81.4929, -114.4461, 5.3489, 0.0001, -584.5656, -4.4962, -1.4403])"
            ]
          },
          "metadata": {},
          "execution_count": 52
        }
      ]
    },
    {
      "cell_type": "code",
      "source": [
        "model.intercept"
      ],
      "metadata": {
        "colab": {
          "base_uri": "https://localhost:8080/"
        },
        "id": "VT4IFtKFOaya",
        "outputId": "80c2024a-ff19-43c5-bdf6-7242ee55f439"
      },
      "execution_count": null,
      "outputs": [
        {
          "output_type": "execute_result",
          "data": {
            "text/plain": [
              "746.7017439458145"
            ]
          },
          "metadata": {},
          "execution_count": 53
        }
      ]
    },
    {
      "cell_type": "code",
      "source": [
        "pred=model.evaluate(test_data)"
      ],
      "metadata": {
        "id": "kWPBfehdOcYp"
      },
      "execution_count": null,
      "outputs": []
    },
    {
      "cell_type": "code",
      "source": [
        "print(pred.predictions.show(100,truncate=0))"
      ],
      "metadata": {
        "colab": {
          "base_uri": "https://localhost:8080/"
        },
        "id": "L8elzqduOezD",
        "outputId": "0d8b1864-d120-40ae-ec80-f13febbde83a"
      },
      "execution_count": null,
      "outputs": [
        {
          "output_type": "stream",
          "name": "stdout",
          "text": [
            "+----------------------------------------------------------------------+---------------------+------------------+\n",
            "|Indepedent Features                                                   |TARGET(PRICE_IN_LACS)|prediction        |\n",
            "+----------------------------------------------------------------------+---------------------+------------------+\n",
            "|(8,[1,4,6,7],[1.0,440.2920962,19.2167,73.0833])                       |41.0                 |636.5871484318246 |\n",
            "|(8,[1,4,6,7],[1.0,717.4581483,29.892311,78.000723])                   |21.0                 |581.5401022840886 |\n",
            "|(8,[1,4,6,7],[2.0,507.6142132,19.193770999999998,73.19789200000001])  |29.0                 |718.0266450920176 |\n",
            "|(8,[1,4,6,7],[2.0,524.7619048,19.2167,73.0833])                       |55.1                 |718.0907851328693 |\n",
            "|(8,[1,4,6,7],[2.0,610.8108107999999,12.78333,80.18333])               |22.6                 |736.8015173158597 |\n",
            "|(8,[1,4,6,7],[2.0,62736.842110000005,13.0511,80.2125])                |5960.0               |743.483459596473  |\n",
            "|(8,[1,4,6,7],[3.0,919.8879552000001,22.54111,88.33778000000001])      |82.1                 |762.7159152130921 |\n",
            "|(8,[1,4,6,7],[3.0,1263.414634,22.54111,88.33778000000001])            |51.8                 |762.7597526839038 |\n",
            "|(8,[1,4,6,7],[3.0,1282.654742,26.832353,75.841749])                   |54.5                 |761.4657360700644 |\n",
            "|(8,[1,4,6,7],[3.0,1332.55814,13.055985,77.622157])                    |57.3                 |820.8493908392487 |\n",
            "|(8,[1,4,6,7],[3.0,1440.819243,13.05,80.11])                           |60.5                 |817.3069015548373 |\n",
            "|(8,[1,4,6,7],[3.0,1500.0,13.03478,80.15586])                          |120.0                |817.3168344136951 |\n",
            "|(8,[1,4,6,7],[3.0,1655.1724140000001,28.510825,77.006087])            |120.0                |752.2895087879992 |\n",
            "|(8,[1,4,6,7],[3.0,1692.307692,28.522191999999997,77.03224300000001])  |110.0                |752.2054668700536 |\n",
            "|(8,[1,4,6,7],[3.0,1830.9859149999997,28.440728000000004,77.114195])   |260.0                |752.471409113855  |\n",
            "|(8,[1,4,6,7],[3.0,1834.8623850000001,12.90015,80.22791])              |120.0                |817.8611195486457 |\n",
            "|(8,[1,4,6,7],[3.0,1846.1538460000002,28.400824,76.91959])             |120.0                |752.933049437665  |\n",
            "|(8,[1,4,6,7],[3.0,2857.142857,28.440728000000004,77.114195])          |350.0                |752.6023570948103 |\n",
            "|(8,[1,4,6,7],[3.0,67500.67501,19.2167,73.0833])                       |7500.0               |808.1304450135689 |\n",
            "|(8,[1,4,6,7],[3.0,165232.0675,28.429614,77.481711])                   |9790.0               |772.8436775642273 |\n",
            "|(8,[1,4,6,7],[3.0,198563.5826,28.408144,76.963756])                   |9400.0               |777.9396542969453 |\n",
            "|(8,[1,4,6,7],[3.0,224238.1949,28.362327,76.979049])                   |9640.0               |781.3999709049854 |\n",
            "|(8,[1,4,6,7],[4.0,2200.704225,12.90015,80.22791])                     |150.0                |899.4006621602787 |\n",
            "|(8,[1,4,6,7],[4.0,2268.002268,28.391440999999997,77.022829])          |120.0                |834.3732330353342 |\n",
            "|(8,[1,4,6,7],[4.0,2572.729072,12.9377,80.2153])                       |130.0                |899.2974652528441 |\n",
            "|(8,[1,4,6,7],[4.0,2599.388379,12.90015,80.22791])                     |170.0                |899.4515382815312 |\n",
            "|(8,[1,4,6,7],[4.0,2818.7919460000003,28.378021,77.063066])            |210.0                |834.445905704706  |\n",
            "|(8,[1,4,6,7],[4.0,3050.108932,28.378021,77.063066])                   |210.0                |834.4754240863858 |\n",
            "|(8,[1,4,6,7],[4.0,3265.795788,22.530279999999998,88.33417])           |490.0                |844.5620277412506 |\n",
            "|[0.0,1.0,0.0,0.0,300.0096777,1.0,19.033891,73.057505]                 |62.0                 |52.86278407668965 |\n",
            "|[0.0,1.0,0.0,0.0,305.0397878,1.0,19.076057000000002,73.097319]        |23.0                 |52.61649464162804 |\n",
            "|[0.0,1.0,0.0,0.0,305.0397878,1.0,21.56128,74.21238000000001]          |23.0                 |39.83637302414809 |\n",
            "|[0.0,1.0,0.0,0.0,309.9573809,1.0,28.538774,77.366515]                 |8.0                  |3.9217804408240227|\n",
            "|[0.0,1.0,0.0,0.0,344.45640469999995,1.0,28.594716,77.375984]          |16.0                 |3.661017189038944 |\n",
            "|[0.0,1.0,0.0,0.0,350.0072918,1.0,24.690279999999998,78.41889]         |24.0                 |19.71484448770957 |\n",
            "|[0.0,1.0,0.0,0.0,350.05834310000006,1.0,22.65921,88.4384]             |15.0                 |14.41599384395613 |\n",
            "|[0.0,1.0,0.0,0.0,358.0123156,1.0,18.977995,72.850686]                 |100.0                |53.41938579836108 |\n",
            "|[0.0,1.0,0.0,0.0,385.03850389999997,1.0,19.223942,73.139554]          |35.0                 |51.90094906969921 |\n",
            "|[0.0,1.0,0.0,0.0,395.0439935,1.0,40.67197199,-86.15292909]            |22.0                 |184.894456565955  |\n",
            "|[0.0,1.0,0.0,0.0,399.40164550000003,1.0,24.690279999999998,78.41889]  |26.7                 |19.721147705689987|\n",
            "|[0.0,1.0,0.0,0.0,400.0,1.0,19.024,73.10300000000001]                  |35.0                 |52.85448999397954 |\n",
            "|[0.0,1.0,0.0,0.0,400.0,1.0,19.038204999999998,73.06612]               |37.0                 |52.843739060320104|\n",
            "|[0.0,1.0,0.0,0.0,405.0073638,1.0,28.9196,76.8972]                     |22.0                 |2.8975815775261253|\n",
            "|[0.0,1.0,0.0,0.0,410.01610780000004,1.0,24.6902,78.416]               |28.0                 |19.72702435275528 |\n",
            "|[0.0,1.0,0.0,0.0,415.18987339999995,1.0,26.675324,88.36301]           |8.2                  |-3.524445812775866|\n",
            "|[0.0,1.0,0.0,0.0,430.0335426,1.0,28.743724,76.81131500000001]         |50.0                 |3.815251737495032 |\n",
            "|[0.0,1.0,0.0,0.0,435.0,1.0,20.230195000000002,85.816005]              |8.7                  |29.125228774668585|\n",
            "|[0.0,1.0,0.0,0.0,449.4382022,1.0,22.5922,88.484911]                   |16.0                 |14.662978150645813|\n",
            "|[0.0,1.0,0.0,0.0,450.058072,1.0,22.5922,88.484911]                    |15.5                 |14.663057252287672|\n",
            "|[0.0,1.0,0.0,0.0,457.7968526000001,1.0,28.66667,77.41667]             |9.6                  |3.2933598940793445|\n",
            "|[0.0,1.0,0.0,0.0,458.5218703,1.0,19.811319,72.76894]                  |15.2                 |49.80314120297089 |\n",
            "|[0.0,1.0,0.0,0.0,465.0379107,1.0,19.2167,73.0833]                     |27.6                 |52.0247414815226  |\n",
            "|[0.0,1.0,0.0,0.0,471.1133152,1.0,22.605438,88.422084]                 |19.0                 |14.69671221944759 |\n",
            "|[0.0,1.0,0.0,0.0,475.01032630000003,1.0,24.690279999999998,78.41889]  |46.0                 |19.73079613634252 |\n",
            "|[0.0,1.0,0.0,0.0,480.0,1.0,19.306722,72.86155600000001]               |51.0                 |51.94126759836411 |\n",
            "|[0.0,1.0,0.0,0.0,487.5986471,1.0,22.498882000000002,88.31755600000001]|17.3                 |15.328465787465802|\n",
            "|[0.0,1.0,0.0,0.0,495.04950499999995,1.0,18.966114,73.148278]          |26.0                 |53.061674064027784|\n",
            "|[0.0,1.0,0.0,0.0,495.04950499999995,1.0,19.2167,73.0833]              |35.0                 |52.02857126380832 |\n",
            "|[0.0,1.0,0.0,0.0,500.0,1.0,19.076466,72.999804]                       |35.0                 |52.77998441720911 |\n",
            "|[0.0,1.0,0.0,0.0,508.0313784,1.0,21.104470000000003,79.092709]        |68.0                 |34.8871082817775  |\n",
            "|[0.0,1.0,0.0,0.0,510.0136833000001,1.0,22.5855,88.427]                |82.0                 |14.784241481820118|\n",
            "|[0.0,1.0,0.0,0.0,510.20408160000005,1.0,23.680545000000002,86.951712] |12.5                 |11.985543831639916|\n",
            "|[0.0,1.0,0.0,0.0,516.6356685,1.0,23.182972,72.611485]                 |25.0                 |34.87764220701297 |\n",
            "|[0.0,1.0,0.0,0.0,530.0353357,1.0,19.283359,72.864964]                 |51.0                 |52.04778930725024 |\n",
            "|[0.0,1.0,0.0,0.0,534.9544073,1.0,19.259521,72.883037]                 |44.0                 |52.12956758351402 |\n",
            "|[0.0,1.0,0.0,0.0,536.0333532,1.0,30.752321000000002,76.772816]        |18.0                 |-5.146867131931685|\n",
            "|[0.0,1.0,0.0,0.0,537.0462456,1.0,18.5101,73.8141]                     |54.0                 |54.15839632083305 |\n",
            "|[0.0,1.0,0.0,0.0,537.056928,1.0,28.588293,77.369224]                  |35.0                 |3.7242105419726386|\n",
            "|[0.0,1.0,0.0,0.0,539.0463027000001,1.0,12.925027,80.235348]           |39.0                 |70.02191521810005 |\n",
            "|[0.0,1.0,0.0,0.0,539.0463027000001,1.0,12.946431,80.23938299999999]   |39.0                 |69.91986654371931 |\n",
            "|[0.0,1.0,0.0,0.0,541.2262156,1.0,24.690279999999998,78.41889]         |12.8                 |19.73924595201504 |\n",
            "|[0.0,1.0,0.0,0.0,543.056633,1.0,18.5823,73.983]                       |28.0                 |53.59127126732733 |\n",
            "|[0.0,1.0,0.0,0.0,549.9699235,1.0,18.142544,75.10616999999999]         |64.0                 |53.95170340390746 |\n",
            "|[0.0,1.0,0.0,0.0,549.9699235,1.0,24.690279999999998,78.41889]         |64.0                 |19.74036173737761 |\n",
            "|[0.0,1.0,0.0,0.0,550.0045834,1.0,18.96667,72.83333]                   |60.0                 |53.519803313667126|\n",
            "|[0.0,1.0,0.0,0.0,550.017188,1.0,18.097689000000003,74.735239]         |48.0                 |54.687635468527105|\n",
            "|[0.0,1.0,0.0,0.0,550.0207555,1.0,19.050992,73.01794699999999]         |53.0                 |52.87477312011151 |\n",
            "|[0.0,1.0,0.0,0.0,550.0207555,1.0,19.283359,72.864964]                 |53.0                 |52.05033964849372 |\n",
            "|[0.0,1.0,0.0,0.0,550.0550055,1.0,18.966114,73.148278]                 |45.0                 |53.06869332096312 |\n",
            "|[0.0,1.0,0.0,0.0,550.0550055,1.0,19.0168,73.09646]                    |35.0                 |52.91543080920894 |\n",
            "|[0.0,1.0,0.0,0.0,550.0550055,1.0,28.716907,77.12469899999999]         |45.0                 |3.4997791225446235|\n",
            "|[0.0,1.0,0.0,0.0,550.1618123,1.0,28.2102,76.8606]                     |17.0                 |6.158438247983895 |\n",
            "|[0.0,1.0,0.0,0.0,550.1618123,1.0,28.5688,77.3425]                     |17.0                 |3.8520179847561167|\n",
            "|[0.0,1.0,0.0,0.0,550.4789167,1.0,19.141644,72.842908]                 |100.0                |52.71934704509056 |\n",
            "|[0.0,1.0,0.0,0.0,560.0068924,1.0,19.02767,72.88001]                   |130.0                |53.179577534112696|\n",
            "|[0.0,1.0,0.0,0.0,560.010182,1.0,18.96,72.82]                          |88.0                 |53.57026898070217 |\n",
            "|[0.0,1.0,0.0,0.0,560.0149337,1.0,19.040416,73.078151]                 |60.0                 |52.83688931278459 |\n",
            "|[0.0,1.0,0.0,0.0,560.0395322,1.0,18.52361,73.84778]                   |34.0                 |54.05207760243911 |\n",
            "|[0.0,1.0,0.0,0.0,565.1105651,1.0,9.930471,76.271273]                  |23.0                 |89.1988416346486  |\n",
            "|[0.0,1.0,0.0,0.0,566.0377358,1.0,12.90015,80.22791]                   |30.0                 |70.14792495136487 |\n",
            "|[0.0,1.0,0.0,0.0,570.0101131,1.0,19.071818,72.98996700000001]         |62.0                 |52.82398497620602 |\n",
            "|[0.0,1.0,0.0,0.0,570.0279313999999,1.0,19.1955,72.8728]               |100.0                |52.43664010317582 |\n",
            "|[0.0,1.0,0.0,0.0,570.062523,1.0,18.164773999999998,74.580229]         |31.0                 |54.61182378540718 |\n",
            "|[0.0,1.0,0.0,0.0,570.1294159,1.0,28.553373999999998,77.355611]        |16.3                 |3.905041114753999 |\n",
            "|[0.0,1.0,0.0,0.0,574.0528128999999,1.0,10.009277,76.361736]           |30.0                 |88.71536067733757 |\n",
            "|[0.0,1.0,0.0,0.0,574.9880211,1.0,19.221571,73.042474]                 |84.0                 |52.07567239735192 |\n",
            "|[0.0,1.0,0.0,0.0,575.0,1.0,18.52361,73.84778]                         |46.0                 |54.05398670909949 |\n",
            "|[0.0,1.0,0.0,0.0,575.0025218999999,1.0,20.084522,72.900306]           |57.0                 |48.400419268621135|\n",
            "|[0.0,1.0,0.0,0.0,575.0130684999999,1.0,19.26941,72.966637]            |55.0                 |51.96980813762627 |\n",
            "|[0.0,1.0,0.0,0.0,575.0236774,1.0,19.1955,72.8728]                     |85.0                 |52.43727761077844 |\n",
            "+----------------------------------------------------------------------+---------------------+------------------+\n",
            "only showing top 100 rows\n",
            "\n",
            "None\n"
          ]
        }
      ]
    },
    {
      "cell_type": "code",
      "source": [
        "trainingSummary = model.summary"
      ],
      "metadata": {
        "id": "Grax43wIoms5"
      },
      "execution_count": null,
      "outputs": []
    },
    {
      "cell_type": "code",
      "source": [
        "print(\"RMSE: %f\" % trainingSummary.rootMeanSquaredError)\n"
      ],
      "metadata": {
        "id": "bgluZTBXOg45",
        "colab": {
          "base_uri": "https://localhost:8080/"
        },
        "outputId": "869c0f5f-6abc-412d-eadd-8a2c6a34a199"
      },
      "execution_count": null,
      "outputs": [
        {
          "output_type": "stream",
          "name": "stdout",
          "text": [
            "RMSE: 580.798819\n"
          ]
        }
      ]
    },
    {
      "cell_type": "code",
      "source": [],
      "metadata": {
        "id": "XD6_lrcHpK5h"
      },
      "execution_count": null,
      "outputs": []
    }
  ]
}